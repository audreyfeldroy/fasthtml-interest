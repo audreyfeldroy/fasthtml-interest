{
 "cells": [
  {
   "cell_type": "code",
   "execution_count": 5,
   "id": "ad1a4d88-9616-432f-a95f-062162558095",
   "metadata": {},
   "outputs": [],
   "source": [
    "%ai reset"
   ]
  },
  {
   "cell_type": "code",
   "execution_count": 23,
   "id": "b8adb519",
   "metadata": {},
   "outputs": [],
   "source": [
    "from fasthtml.common import *\n",
    "from fasthtml.jupyter import *"
   ]
  },
  {
   "cell_type": "code",
   "execution_count": 7,
   "id": "24a0547f",
   "metadata": {},
   "outputs": [],
   "source": [
    "app,rt,todos,Todo = fast_app(\n",
    "    'data/todos.db',\n",
    "    hdrs=[\n",
    "        Socials(site_name=\"fhinterest\", title=\"FastHTML Interest\", image=\"https://res.cloudinary.com/dwxrm0iul/image/upload/v1731538464/tweet-1733553161884127435_2_cpectu.png\", card=\"summary_large_image\", description=\"Struggling with FastHTML? Tell us what you want blog posts, docs, or examples about.\"),\n",
    "        Style(':root { --pico-font-size: 100%; }'),\n",
    "        Style('div[data-style=\"clean\"] { padding-top: 0 !important; padding-bottom: 8px !important; }')\n",
    "    ],\n",
    "    id=int, title=str, done=bool, upvotes=int, pk='id')"
   ]
  },
  {
   "cell_type": "code",
   "execution_count": 8,
   "id": "0c008a1f",
   "metadata": {},
   "outputs": [],
   "source": [
    "id_curr = 'current-todo'\n",
    "def tid(id): return f'todo-{id}'"
   ]
  },
  {
   "cell_type": "code",
   "execution_count": 9,
   "id": "038d79cf",
   "metadata": {},
   "outputs": [],
   "source": [
    "@patch\n",
    "def __ft__(self:Todo):\n",
    "    topic_display = self.title\n",
    "    upvote_link = AX('👍', f'/upvote/{self.id}', id=tid(self.id), cls='upvote-link', hx_post=f'/upvote/{self.id}', hx_target=f'#upvote-count-{self.id}', hx_swap='innerHTML')\n",
    "    upvotes_display = Td(f'{self.upvotes or 0}', id=f'upvote-count-{self.id}')\n",
    "    return Tr(Td(topic_display), upvotes_display, Td(upvote_link), id=tid(self.id))"
   ]
  },
  {
   "cell_type": "code",
   "execution_count": 10,
   "id": "b0442e46",
   "metadata": {},
   "outputs": [],
   "source": [
    "def mk_input(**kw): return Input(id=\"new-title\", name=\"title\", placeholder=\"New Item\", required=True, **kw)"
   ]
  },
  {
   "cell_type": "code",
   "execution_count": 11,
   "id": "50112049",
   "metadata": {},
   "outputs": [],
   "source": [
    "# Read the contents of form.html\n",
    "def read_form_html():\n",
    "    with open('form.html', 'r') as file:\n",
    "        return file.read()"
   ]
  },
  {
   "cell_type": "code",
   "execution_count": 12,
   "id": "440b8e46",
   "metadata": {},
   "outputs": [],
   "source": [
    "@rt(\"/healthcheck\")\n",
    "def healthcheck():\n",
    "    return \"ok\""
   ]
  },
  {
   "cell_type": "code",
   "execution_count": 26,
   "id": "c8c55bf7",
   "metadata": {},
   "outputs": [],
   "source": [
    "@rt(\"/\")\n",
    "def get(page: int = 1):\n",
    "    items_per_page = 10\n",
    "    start = (page - 1) * items_per_page\n",
    "    end = start + items_per_page\n",
    "\n",
    "    # Introductory information\n",
    "    intro = Div(\n",
    "        P(\"Hi, I’m \", A(\"Audrey M. Roy Greenfeld\", href=\"https://audrey.feldroy.com/\"), \". I'm working with \", \n",
    "          A(\"PyDanny (Daniel Roy Greenfeld)\", href=\"https://daniel.feldroy.com/\"), \n",
    "          \"to improve the FastHTML docs after I noticed I found some things tricky, and that \",\n",
    "          \"others in #fasthtml suggested we improve the docs. \"\n",
    "        ),\n",
    "        Div(\n",
    "            Img(src=\"https://res.cloudinary.com/dwxrm0iul/image/upload/v1731538464/tweet-1733553161884127435_2_cpectu.png\", style=\"width:33%; display: block; margin: 0 auto;\"), \n",
    "            cls='tweet'\n",
    "        ),\n",
    "        Br(),\n",
    "        P(\"Before PyDanny and I write tutorials about weird things no one's interested in, we want to know what questions you have.\"),\n",
    "        H2(\"Step 1:Tell us what you want to learn\"),\n",
    "        P(\"Upvote or add a topic below.  Paginate to see more. We'll write about the top voted topics first.\"),\n",
    "    )\n",
    "\n",
    "    add = Form(Group(mk_input(), Button(\"Add\")),\n",
    "               hx_post=\"/\", target_id='todo-list', hx_swap=\"beforeend\")\n",
    "    table_header = Tr(Th(\"Topic\"), Th(\"Num Upvotes\"), Th(\"Upvote\"))\n",
    "    \n",
    "    # Sort todos by upvotes in descending order\n",
    "    sorted_todos = sorted(todos(), key=lambda todo: todo.upvotes or 0, reverse=True)\n",
    "    \n",
    "    # Paginate topics\n",
    "    table_body = [todo.__ft__() for todo in sorted_todos[start:end]]\n",
    "\n",
    "    # Pagination controls\n",
    "    total_pages = (len(sorted_todos) + items_per_page - 1) // items_per_page\n",
    "    pagination_controls = Div(\n",
    "        Span(f\"Page {page} of {total_pages} | \"),\n",
    "        A(\"Previous\", href=f\"/?page={page-1}\", cls=\"prev\") if page > 1 else \"\",\n",
    "        A(\"Next\", href=f\"/?page={page+1}\", cls=\"next\") if page < total_pages else \"\",\n",
    "        cls=\"pagination\"\n",
    "    )\n",
    "\n",
    "    card = Card(Table(table_header, *table_body, id='todo-list'),\n",
    "                header=add, footer=pagination_controls),\n",
    "    ck = (H2(\"Step 2. Sign Up To Get Updates On LLM Evals \"),\n",
    "          P(\"You’ll be the first to know about educational materials. No spam.\"),\n",
    "          NotStr('<script async data-uid=\"a7628dbdca\" src=\"https://hamel.kit.com/a7628dbdca/index.js\"></script>'),\n",
    "          Br(),\n",
    "          P(\"See the \", A(\"FAQ\", href=\"/faq\", style=\"font-size: 0.9em;\"), \" for more info.\")\n",
    "    )\n",
    "\n",
    "    footer = Div(\n",
    "        Footer(\"made with \", A(\"fasthtml\", href=\"https://fastht.ml/\")),\n",
    "        cls='footer',\n",
    "        style='font-size: 0.8em; color: grey; font-style: italic;'\n",
    "    )\n",
    "\n",
    "    return Title(\"What do you struggle with in FastHTML?\"), Main(\n",
    "        H1(\"Struggling with FastHTML?\", style=\"margin-bottom: 5px;\"),\n",
    "        Div(\"Help us figure out what to write or record.\", style=\"font-size: 1em; color: #888; margin-bottom: 20px;\"),\n",
    "        intro,\n",
    "        H4('FastHTML Topics', style='text-align: center;'),\n",
    "        card,\n",
    "        ck,\n",
    "        footer,\n",
    "        cls='container'\n",
    "    )"
   ]
  },
  {
   "cell_type": "code",
   "execution_count": 14,
   "id": "44f86762",
   "metadata": {},
   "outputs": [],
   "source": [
    "@rt(\"/more\")\n",
    "def more():\n",
    "    # Load the remaining todos\n",
    "    sorted_todos = sorted(todos(), key=lambda todo: todo.upvotes or 0, reverse=True)\n",
    "    remaining_todos = sorted_todos[10:]\n",
    "    table_body = [todo.__ft__() for todo in remaining_todos]\n",
    "    return table_body"
   ]
  },
  {
   "cell_type": "code",
   "execution_count": 15,
   "id": "e33982c7",
   "metadata": {},
   "outputs": [],
   "source": [
    "@rt(\"/todos/{id}\")\n",
    "def delete(id:int):\n",
    "    todos.delete(id)\n",
    "    return clear(id_curr)"
   ]
  },
  {
   "cell_type": "code",
   "execution_count": 16,
   "id": "018b501f",
   "metadata": {},
   "outputs": [],
   "source": [
    "@rt(\"/\")\n",
    "def post(todo:Todo): return todos.insert(todo), mk_input(hx_swap_oob='true')"
   ]
  },
  {
   "cell_type": "code",
   "execution_count": 17,
   "id": "ed43193d",
   "metadata": {},
   "outputs": [],
   "source": [
    "@rt(\"/edit/{id}\")\n",
    "def get(id:int):\n",
    "    res = Form(Group(Input(id=\"title\"), Button(\"Save\")),\n",
    "        Hidden(id=\"id\"), CheckboxX(id=\"done\", label='Done'),\n",
    "        hx_put=\"/\", target_id=tid(id), id=\"edit\")\n",
    "    return fill_form(res, todos.get(id))"
   ]
  },
  {
   "cell_type": "code",
   "execution_count": 18,
   "id": "372746cd",
   "metadata": {},
   "outputs": [],
   "source": [
    "@rt(\"/\")\n",
    "def put(todo: Todo): return todos.upsert(todo), clear(id_curr)"
   ]
  },
  {
   "cell_type": "code",
   "execution_count": 19,
   "id": "566e9cc8",
   "metadata": {},
   "outputs": [],
   "source": [
    "@rt(\"/todos/{id}\")\n",
    "def get(id:int):\n",
    "    todo = todos.get(id)\n",
    "    btn = Button('delete', hx_delete=f'/todos/{todo.id}',\n",
    "                 target_id=tid(todo.id), hx_swap=\"outerHTML\")\n",
    "    return Div(Div(todo.title), btn)"
   ]
  },
  {
   "cell_type": "code",
   "execution_count": 20,
   "id": "ac62e6ea",
   "metadata": {},
   "outputs": [],
   "source": [
    "@rt(\"/upvote/{id}\")\n",
    "def upvote(id: int):\n",
    "    todo = todos.get(id)\n",
    "    # Initialize upvotes to 0 if it's None\n",
    "    if todo.upvotes is None:\n",
    "        todo.upvotes = 0\n",
    "    todo.upvotes += 1\n",
    "    todos.upsert(todo)\n",
    "    \n",
    "    # Return the updated upvote count as HTML\n",
    "    return f'{todo.upvotes}'"
   ]
  },
  {
   "cell_type": "code",
   "execution_count": 25,
   "id": "c434e96e",
   "metadata": {},
   "outputs": [],
   "source": [
    "@rt(\"/faq\")\n",
    "def faq():\n",
    "    return Title(\"FAQ\"), Main(\n",
    "        A(\"Back\", href=\"/\", style=\"font-size: 0.9em;\"),\n",
    "        Br(), Br(),\n",
    "        H2(\"FAQ\"),\n",
    "        H3(\"Q: Why are you doing this?\"),\n",
    "        P(\"We see a lot of questions in the Fast.ai Discord server > #fasthtml channel that could be answered via better docs, blog posts, videos, etc. The best way to help as many FastHTML users as possible is to see which topics are most interesting to everyone.\"),\n",
    "        cls='container'\n",
    "    )"
   ]
  },
  {
   "cell_type": "code",
   "execution_count": 24,
   "id": "d0139ec2",
   "metadata": {},
   "outputs": [
    {
     "data": {
      "text/html": [
       "\n",
       "<script>\n",
       "document.body.addEventListener('htmx:configRequest', (event) => {\n",
       "    if(event.detail.path.includes('://')) return;\n",
       "    htmx.config.selfRequestsOnly=false;\n",
       "    event.detail.path = `${location.protocol}//${location.hostname}:8000${event.detail.path}`;\n",
       "});\n",
       "</script>"
      ],
      "text/plain": [
       "<IPython.core.display.HTML object>"
      ]
     },
     "metadata": {},
     "output_type": "display_data"
    }
   ],
   "source": [
    "port = 8000\n",
    "server = JupyUvi(app, port=port)"
   ]
  },
  {
   "cell_type": "code",
   "execution_count": null,
   "id": "7f563dae",
   "metadata": {},
   "outputs": [],
   "source": []
  }
 ],
 "metadata": {
  "kernelspec": {
   "display_name": "Python 3 (ipykernel)",
   "language": "python",
   "name": "python3"
  },
  "language_info": {
   "codemirror_mode": {
    "name": "ipython",
    "version": 3
   },
   "file_extension": ".py",
   "mimetype": "text/x-python",
   "name": "python",
   "nbconvert_exporter": "python",
   "pygments_lexer": "ipython3",
   "version": "3.12.4"
  }
 },
 "nbformat": 4,
 "nbformat_minor": 5
}
